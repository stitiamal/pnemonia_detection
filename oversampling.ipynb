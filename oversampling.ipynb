{
 "cells": [
  {
   "cell_type": "code",
   "execution_count": 3,
   "id": "d510e0f5",
   "metadata": {
    "ExecuteTime": {
     "end_time": "2023-10-17T09:17:32.947654Z",
     "start_time": "2023-10-17T09:17:27.016873Z"
    },
    "scrolled": true
   },
   "outputs": [
    {
     "data": {
      "image/png": "[encoded data removed]",
      "text/plain": [
       "<Figure size 576x360 with 1 Axes>"
      ]
     },
     "metadata": {
      "needs_background": "light"
     },
     "output_type": "display_data"
    }
   ],
   "source": [
    "from imblearn.over_sampling import RandomOverSampler\n",
    "import os\n",
    "import numpy as np\n",
    "import matplotlib.pyplot as plt\n",
    "\n",
    "data_location = 'C:/Users/ASUS/Desktop/M2_SID/MFD/processed'\n",
    "class_names = ['PNEUMONIA', 'NORMAL']\n",
    "image_size = (128, 128)\n",
    "\n",
    "X = []\n",
    "y = []\n",
    "\n",
    "for class_name in class_names:\n",
    "    for data_split in ['train_gauss', 'test_gauss', 'val_gauss']:\n",
    "        class_path = os.path.join(data_location, data_split, class_name)\n",
    "        for image_name in os.listdir(class_path):\n",
    "            image_path = os.path.join(class_path, image_name)\n",
    "            X.append(image_path)  # Corrected to append image_path, not image\n",
    "            y.append(class_name)\n",
    "X = np.array(X)\n",
    "\n",
    "oversampler = RandomOverSampler(sampling_strategy='auto', random_state=42)\n",
    "X_resampled, y_resampled = oversampler.fit_resample(X.reshape(-1, 1), y)  # Reshape X\n",
    "\n",
    "unique_classes, counts = np.unique(y_resampled, return_counts=True)\n",
    "\n",
    "plt.figure(figsize=(8, 5))\n",
    "plt.bar(unique_classes, counts)\n",
    "plt.xlabel('Class')\n",
    "plt.ylabel('Count')\n",
    "plt.title('Class Distribution in Balanced Data')\n",
    "plt.show()"
   ]
  },
  {
   "cell_type": "code",
   "execution_count": null,
   "id": "03c9decc",
   "metadata": {},
   "outputs": [],
   "source": []
  }
 ],
 "metadata": {
  "kernelspec": {
   "display_name": "Tp1",
   "language": "python",
   "name": "tp1"
  },
  "language_info": {
   "codemirror_mode": {
    "name": "ipython",
    "version": 3
   },
   "file_extension": ".py",
   "mimetype": "text/x-python",
   "name": "python",
   "nbconvert_exporter": "python",
   "pygments_lexer": "ipython3",
   "version": "3.6.7"
  }
 },
 "nbformat": 4,
 "nbformat_minor": 5
}
