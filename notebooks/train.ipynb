{
 "cells": [
  {
   "cell_type": "code",
   "execution_count": null,
   "id": "93aa3a85",
   "metadata": {},
   "outputs": [],
   "source": [
    "import os\n",
    "import numpy as np\n",
    "import tensorflow as tf\n",
    "from tensorflow.keras.models import Sequential\n",
    "from tensorflow.keras.layers import Conv2D, MaxPooling2D, Flatten, Dense, Dropout\n",
    "from tensorflow.keras.optimizers import Adam\n",
    "\n",
    "data_location = 'C:/Users/ASUS/Desktop/M2_SID/MFD/chest_xray'\n",
    "train_gauss = os.path.join(data_location, 'train_gauss')\n",
    "test_gauss = os.path.join(data_location, 'test_gauss')\n",
    "val_gauss = os.path.join(data_location, 'val_gauss')\n",
    "\n",
    "batch_size = 32\n",
    "image_size = (128, 128)\n",
    "\n",
    "# Load and preprocess the data without data augmentation\n",
    "train_generator = tf.keras.preprocessing.image.ImageDataGenerator().flow_from_directory(\n",
    "    train_gauss, target_size=image_size, batch_size=batch_size, class_mode='binary')\n",
    "\n",
    "test_generator = tf.keras.preprocessing.image.ImageDataGenerator().flow_from_directory(\n",
    "    test_gauss, target_size=image_size, batch_size=batch_size, class_mode='binary')\n",
    "\n",
    "val_generator = tf.keras.preprocessing.image.ImageDataGenerator().flow_from_directory(\n",
    "    val_gauss, target_size=image_size, batch_size=batch_size, class_mode='binary')\n",
    "\n",
    "# Define the CNN model\n",
    "model = Sequential([\n",
    "    Conv2D(32, (3, 3), activation='relu', input_shape=(image_size[0], image_size[1], 3)),\n",
    "    MaxPooling2D((2, 2)),\n",
    "    Conv2D(64, (3, 3), activation='relu'),\n",
    "    MaxPooling2D((2, 2)),\n",
    "    Conv2D(128, (3, 3), activation='relu'),\n",
    "    MaxPooling2D((2, 2)),\n",
    "    Flatten(),\n",
    "    Dense(128, activation='relu'),\n",
    "    Dropout(0.5),\n",
    "    Dense(1, activation='sigmoid')\n",
    "])\n",
    "\n",
    "# Compile the model\n",
    "optimizer = Adam(learning_rate=0.001)\n",
    "model.compile(optimizer=optimizer, loss='binary_crossentropy', metrics=['accuracy'])\n",
    "\n",
    "# Train the model\n",
    "history = model.fit(train_generator, epochs=5, validation_data=val_generator, verbose=1)\n",
    "\n",
    "# Make predictions on test data\n",
    "test_loss, test_accuracy = model.evaluate(test_generator, verbose=2)\n",
    "print(f'Test accuracy: {test_accuracy}')"
   ]
  }
 ],
 "metadata": {
  "kernelspec": {
   "display_name": "Python 3",
   "language": "python",
   "name": "python3"
  },
  "language_info": {
   "codemirror_mode": {
    "name": "ipython",
    "version": 3
   },
   "file_extension": ".py",
   "mimetype": "text/x-python",
   "name": "python",
   "nbconvert_exporter": "python",
   "pygments_lexer": "ipython3",
   "version": "3.6.7"
  }
 },
 "nbformat": 4,
 "nbformat_minor": 5
}
