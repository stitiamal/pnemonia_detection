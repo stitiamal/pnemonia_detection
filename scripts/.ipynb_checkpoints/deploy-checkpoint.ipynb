{
 "cells": [
  {
   "cell_type": "code",
   "execution_count": null,
   "id": "08d8cdf6",
   "metadata": {},
   "outputs": [],
   "source": [
    "import os\n",
    "import numpy as np\n",
    "from flask import Flask, request, jsonify\n",
    "from tensorflow.keras.models import load_model\n",
    "from tensorflow.keras.preprocessing.image import img_to_array, load_img\n",
    "\n",
    "app = Flask(__name__) #create a flask instance\n",
    "\n",
    "# Load the trained model\n",
    "model = load_model('pneumonia_detection.h5')\n",
    "\n",
    "# Define a route for making predictions\n",
    "@app.route('/predict', methods=['POST']) #define the respose port via POST method\n",
    "def predict():\n",
    "    try:\n",
    "        # Get the uploaded image\n",
    "        image = request.files['image']\n",
    "        image = load_img(image, target_size=(128, 128))\n",
    "        image = img_to_array(image)\n",
    "        image = np.expand_dims(image, axis=0)\n",
    "\n",
    "        # Make a prediction\n",
    "        prediction = model.predict(image)\n",
    "        prediction = np.round(prediction).astype(int)\n",
    "\n",
    "        # Return the prediction as JSON\n",
    "        return jsonify({'prediction': prediction[0][0]})\n",
    "\n",
    "    except Exception as e:\n",
    "        return jsonify({'error': str(e)})\n",
    "    \n",
    "if __name__ == \"__main__\":\n",
    "    port = int(os.environ.get(\"PORT\", 5000))\n",
    "    app.run(host='0.0.0.0', port=port)"
   ]
  }
 ],
 "metadata": {
  "kernelspec": {
   "display_name": "Python 3",
   "language": "python",
   "name": "python3"
  },
  "language_info": {
   "codemirror_mode": {
    "name": "ipython",
    "version": 3
   },
   "file_extension": ".py",
   "mimetype": "text/x-python",
   "name": "python",
   "nbconvert_exporter": "python",
   "pygments_lexer": "ipython3",
   "version": "3.6.7"
  }
 },
 "nbformat": 4,
 "nbformat_minor": 5
}
