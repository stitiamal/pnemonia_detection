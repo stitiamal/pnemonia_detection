{
 "cells": [
  {
   "cell_type": "code",
   "execution_count": null,
   "id": "1719f0fa",
   "metadata": {},
   "outputs": [],
   "source": [
    "import numpy as np\n",
    "from sklearn.metrics import classification_report, confusion_matrix\n",
    "import seaborn as sns\n",
    "import matplotlib.pyplot as plt\n",
    "\n",
    "test_generator.reset()  \n",
    "y_pred = model.predict(test_generator)\n",
    "y_pred_binary = np.round(y_pred)\n",
    "\n",
    "y_true = test_generator.classes\n",
    "\n",
    "target_names = list(test_generator.class_indices.keys())\n",
    "class_report = classification_report(y_true, y_pred_binary, target_names=target_names)\n",
    "\n",
    "conf_matrix = confusion_matrix(y_true, y_pred_binary)\n",
    "\n",
    "print(class_report)\n",
    "\n",
    "plt.figure(figsize=(6, 6))\n",
    "sns.heatmap(conf_matrix, annot=True, fmt='d', cmap='Blues', xticklabels=target_names, yticklabels=target_names)\n",
    "plt.xlabel('predicted')\n",
    "plt.ylabel('real')\n",
    "plt.title('confusion matrix')\n",
    "plt.show()"
   ]
  }
 ],
 "metadata": {
  "kernelspec": {
   "display_name": "Python 3",
   "language": "python",
   "name": "python3"
  },
  "language_info": {
   "codemirror_mode": {
    "name": "ipython",
    "version": 3
   },
   "file_extension": ".py",
   "mimetype": "text/x-python",
   "name": "python",
   "nbconvert_exporter": "python",
   "pygments_lexer": "ipython3",
   "version": "3.6.7"
  }
 },
 "nbformat": 4,
 "nbformat_minor": 5
}
